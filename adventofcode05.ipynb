{
  "nbformat": 4,
  "nbformat_minor": 0,
  "metadata": {
    "colab": {
      "name": "adventofcode05.ipynb",
      "provenance": [],
      "authorship_tag": "ABX9TyMQUpwp1JDJ2YI9pGYW5rIl",
      "include_colab_link": true
    },
    "kernelspec": {
      "name": "python3",
      "display_name": "Python 3"
    }
  },
  "cells": [
    {
      "cell_type": "markdown",
      "metadata": {
        "id": "view-in-github",
        "colab_type": "text"
      },
      "source": [
        "<a href=\"https://colab.research.google.com/github/awermenlinger/adventofcode2020/blob/main/adventofcode05.ipynb\" target=\"_parent\"><img src=\"https://colab.research.google.com/assets/colab-badge.svg\" alt=\"Open In Colab\"/></a>"
      ]
    },
    {
      "cell_type": "code",
      "metadata": {
        "id": "0UOfQ9JuQLhF"
      },
      "source": [
        "import pandas as pd\n",
        "import numpy as np\n",
        "import regex as re\n",
        "import math\n",
        "from itertools import combinations\n",
        "from pydrive.auth import GoogleAuth\n",
        "from pydrive.drive import GoogleDrive\n",
        "from google.colab import auth\n",
        "from oauth2client.client import GoogleCredentials"
      ],
      "execution_count": 1,
      "outputs": []
    },
    {
      "cell_type": "code",
      "metadata": {
        "id": "1QOELSVdQQiC"
      },
      "source": [
        "# Authenticate and create the PyDrive client.\n",
        "auth.authenticate_user()\n",
        "gauth = GoogleAuth()\n",
        "gauth.credentials = GoogleCredentials.get_application_default()\n",
        "drive = GoogleDrive(gauth)"
      ],
      "execution_count": 2,
      "outputs": []
    },
    {
      "cell_type": "code",
      "metadata": {
        "id": "UWgUE4TyQSo5"
      },
      "source": [
        "#5.1 and 5.2\n",
        "#load the file\n",
        "id = \"1jm-OUqF2pgL9KFM3DX38sgr7ERU3r7ZK\"\n",
        "downloaded = drive.CreateFile({'id':id}) \n",
        "downloaded.GetContentFile('day5.txt')  \n",
        "\n"
      ],
      "execution_count": 8,
      "outputs": []
    },
    {
      "cell_type": "code",
      "metadata": {
        "id": "9dVPaSovQn_q",
        "colab": {
          "base_uri": "https://localhost:8080/"
        },
        "outputId": "ae176fef-095a-495b-8bfd-143c5031c46e"
      },
      "source": [
        "%%timeit\n",
        "seats = []\n",
        "with open('day5.txt') as f:\n",
        "    for line in f:\n",
        "      row = int(line[0:7].translate(str.maketrans({'B': \"1\", 'F': \"0\"})),2)\n",
        "      col = int(line[7:].translate(str.maketrans({'R': \"1\", 'L': \"0\"})),2)\n",
        "      seats.append(row*8+col)\n",
        "ans51 =  max(seats)\n",
        "\n",
        "missing_seats = list(set(range(ans51 + 1)) - set(seats)) \n",
        "missing_seats.sort(reverse=True)\n",
        "candidates = []\n",
        "for seat in missing_seats:\n",
        "  if seat+1 in seats and seat-1 in seats:\n",
        "    candidates.append(seat)\n",
        "ans52 = candidates"
      ],
      "execution_count": 10,
      "outputs": [
        {
          "output_type": "stream",
          "text": [
            "100 loops, best of 3: 2.26 ms per loop\n"
          ],
          "name": "stdout"
        }
      ]
    },
    {
      "cell_type": "code",
      "metadata": {
        "colab": {
          "base_uri": "https://localhost:8080/"
        },
        "id": "JQBRFvqEycdR",
        "outputId": "3d6552dc-fb0a-4434-8ce0-9f8329caac36"
      },
      "source": [
        "print(\"5.1: {} and 5.2: {}\".format(ans51, ans52))"
      ],
      "execution_count": 7,
      "outputs": [
        {
          "output_type": "stream",
          "text": [
            "5.1: 901 and 5.2: [661]\n"
          ],
          "name": "stdout"
        }
      ]
    },
    {
      "cell_type": "code",
      "metadata": {
        "id": "UQD7m_vsyc0g"
      },
      "source": [
        ""
      ],
      "execution_count": null,
      "outputs": []
    }
  ]
}