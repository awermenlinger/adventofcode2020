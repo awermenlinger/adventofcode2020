{
  "nbformat": 4,
  "nbformat_minor": 0,
  "metadata": {
    "colab": {
      "name": "adventofcode09.ipynb",
      "provenance": [],
      "collapsed_sections": [],
      "authorship_tag": "ABX9TyOj5wOBfK2ea3K+RMCM5gwu",
      "include_colab_link": true
    },
    "kernelspec": {
      "name": "python3",
      "display_name": "Python 3"
    }
  },
  "cells": [
    {
      "cell_type": "markdown",
      "metadata": {
        "id": "view-in-github",
        "colab_type": "text"
      },
      "source": [
        "<a href=\"https://colab.research.google.com/github/awermenlinger/adventofcode2020/blob/main/adventofcode09.ipynb\" target=\"_parent\"><img src=\"https://colab.research.google.com/assets/colab-badge.svg\" alt=\"Open In Colab\"/></a>"
      ]
    },
    {
      "cell_type": "code",
      "metadata": {
        "id": "0UOfQ9JuQLhF"
      },
      "source": [
        "import pandas as pd\n",
        "import numpy as np\n",
        "import regex as re\n",
        "import math\n",
        "from itertools import combinations\n",
        "from pydrive.auth import GoogleAuth\n",
        "from pydrive.drive import GoogleDrive\n",
        "from google.colab import auth\n",
        "from oauth2client.client import GoogleCredentials"
      ],
      "execution_count": 1,
      "outputs": []
    },
    {
      "cell_type": "code",
      "metadata": {
        "id": "1QOELSVdQQiC"
      },
      "source": [
        "# Authenticate and create the PyDrive client.\n",
        "auth.authenticate_user()\n",
        "gauth = GoogleAuth()\n",
        "gauth.credentials = GoogleCredentials.get_application_default()\n",
        "drive = GoogleDrive(gauth)"
      ],
      "execution_count": 2,
      "outputs": []
    },
    {
      "cell_type": "code",
      "metadata": {
        "id": "UWgUE4TyQSo5"
      },
      "source": [
        "#load the file\n",
        "\n",
        "id = \"175MhpDAxK9AT4zKU3AYr-JsF0z8olZC-\"\n",
        "downloaded = drive.CreateFile({'id':id}) \n",
        "downloaded.GetContentFile('day09.txt')  "
      ],
      "execution_count": 3,
      "outputs": []
    },
    {
      "cell_type": "code",
      "metadata": {
        "id": "9dVPaSovQn_q"
      },
      "source": [
        "strings = open('day09.txt', 'r').read().rstrip().split('\\n')\n",
        "numlist = []\n",
        "preamble = []\n",
        "for string in strings[:25]:\n",
        "  preamble.append(int(string))\n",
        "\n",
        "for string in strings[25:]:\n",
        "  numlist.append(int(string))"
      ],
      "execution_count": 25,
      "outputs": []
    },
    {
      "cell_type": "code",
      "metadata": {
        "id": "LB7G11XZNZH7"
      },
      "source": [
        "def update_preamble(pre, new):\n",
        "  pre.remove(pre[0])\n",
        "  pre.append(new)\n",
        "  return pre\n",
        "\n",
        "def isinpreamble(pream, checkvalue):\n",
        "  for var in combinations(pream, 2): \n",
        "    if var[0] + var[1] == checkvalue:           \n",
        "      return True\n",
        "  return False\n",
        "\n",
        "first_error = 0\n",
        "for num in numlist:\n",
        "  if isinpreamble(preamble, num):\n",
        "    preamble = update_preamble(preamble, num)\n",
        "  else:\n",
        "    first_error = num\n",
        "    break\n",
        "\n",
        "ans91 = first_error"
      ],
      "execution_count": 57,
      "outputs": []
    },
    {
      "cell_type": "code",
      "metadata": {
        "id": "kjCw7EHVDOy1"
      },
      "source": [
        "small_numlist = numlist[:numlist.index(167829540)].copy()\n",
        "\n",
        "start = 0\n",
        "end = 0\n",
        "\n",
        "def listSum(ls, index, result):\n",
        "  # Base condition\n",
        "  if result > ans91:\n",
        "    return False, 0\n",
        "  if result == ans91:\n",
        "    \n",
        "    return True, index - 1\n",
        "  # Call with next index and add the current element to result\n",
        "  return listSum(ls, index + 1, result + ls[index])\n",
        "\n",
        "\n",
        "\n",
        "for i in range(0, len(small_numlist)):\n",
        "  start = i\n",
        "  test, end = listSum(small_numlist[i:], 0, 0)\n",
        "  end = end + i\n",
        "  if test == True:\n",
        "    break\n",
        "\n",
        "congruent = small_numlist[start:end+1]\n",
        "ans92 = min(congruent) + max(congruent)\n"
      ],
      "execution_count": 54,
      "outputs": []
    },
    {
      "cell_type": "code",
      "metadata": {
        "colab": {
          "base_uri": "https://localhost:8080/"
        },
        "id": "8ZhEPuu_ejS0",
        "outputId": "4d33e551-04df-45ca-f0c7-45e9db2e7199"
      },
      "source": [
        "print(\"9.1: {} and 9.2: {}\".format(ans91, ans92))"
      ],
      "execution_count": 49,
      "outputs": [
        {
          "output_type": "stream",
          "text": [
            "9.1: 167829540 and 9.2: 28045630\n"
          ],
          "name": "stdout"
        }
      ]
    },
    {
      "cell_type": "code",
      "metadata": {
        "id": "rYJ0cJEPuO2l"
      },
      "source": [
        ""
      ],
      "execution_count": 46,
      "outputs": []
    },
    {
      "cell_type": "code",
      "metadata": {
        "id": "0wLuLSJVuPcZ"
      },
      "source": [
        ""
      ],
      "execution_count": null,
      "outputs": []
    }
  ]
}