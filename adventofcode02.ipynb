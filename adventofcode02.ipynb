{
  "nbformat": 4,
  "nbformat_minor": 0,
  "metadata": {
    "colab": {
      "name": "adventofcode02.ipynb",
      "provenance": [],
      "collapsed_sections": [],
      "authorship_tag": "ABX9TyOYujXVkoSpfekFIp3ecnmX",
      "include_colab_link": true
    },
    "kernelspec": {
      "name": "python3",
      "display_name": "Python 3"
    }
  },
  "cells": [
    {
      "cell_type": "markdown",
      "metadata": {
        "id": "view-in-github",
        "colab_type": "text"
      },
      "source": [
        "<a href=\"https://colab.research.google.com/github/awermenlinger/adventofcode2020/blob/main/adventofcode02.ipynb\" target=\"_parent\"><img src=\"https://colab.research.google.com/assets/colab-badge.svg\" alt=\"Open In Colab\"/></a>"
      ]
    },
    {
      "cell_type": "code",
      "metadata": {
        "id": "jvdzG-iLtZFK"
      },
      "source": [
        "import pandas as pd\n",
        "import numpy as np\n",
        "import regex as re\n",
        "import math\n",
        "from itertools import combinations\n",
        "from pydrive.auth import GoogleAuth\n",
        "from pydrive.drive import GoogleDrive\n",
        "from google.colab import auth\n",
        "from oauth2client.client import GoogleCredentials"
      ],
      "execution_count": 1,
      "outputs": []
    },
    {
      "cell_type": "code",
      "metadata": {
        "id": "4vss2Ozntabb"
      },
      "source": [
        "# Authenticate and create the PyDrive client.\n",
        "auth.authenticate_user()\n",
        "gauth = GoogleAuth()\n",
        "gauth.credentials = GoogleCredentials.get_application_default()\n",
        "drive = GoogleDrive(gauth)"
      ],
      "execution_count": 2,
      "outputs": []
    },
    {
      "cell_type": "code",
      "metadata": {
        "colab": {
          "base_uri": "https://localhost:8080/"
        },
        "id": "-GrZ8l_Ltbqs",
        "outputId": "ea4fae00-e387-45cd-ca32-009c86edb6eb"
      },
      "source": [
        "#2.1\n",
        "id = \"16ZVj0B-P7GuA8n5SXehe3DAy6SkYsNn_\"\n",
        "downloaded = drive.CreateFile({'id':id}) \n",
        "downloaded.GetContentFile('day2.txt')  \n",
        "df2 = pd.read_csv('day2.txt', delimiter=\":\", header = None)\n",
        "df2.columns = [\"rule\", \"password\"]\n",
        "df2.rule.str.strip()\n",
        "df2.password.str.strip()\n",
        "answer = 0\n",
        "for idx, row in df2.iterrows():\n",
        "  min, max, test = re.findall(\"([0-9]+)-([0-9]+) ([a-z])\", row[\"rule\"])[0]\n",
        "  ch_number = int(row[\"password\"].count(test))\n",
        "  if ch_number >= int(min) and ch_number <= int(max):\n",
        "    answer = answer + 1\n",
        "#regex rule into 3 blocks --> min, max, letter\n",
        "#check password for the rules\n",
        "answer"
      ],
      "execution_count": 3,
      "outputs": [
        {
          "output_type": "execute_result",
          "data": {
            "text/plain": [
              "542"
            ]
          },
          "metadata": {
            "tags": []
          },
          "execution_count": 3
        }
      ]
    },
    {
      "cell_type": "code",
      "metadata": {
        "colab": {
          "base_uri": "https://localhost:8080/"
        },
        "id": "-KgxH4S8tmeS",
        "outputId": "be1a60e4-8b1f-43b2-f270-a6577f238c62"
      },
      "source": [
        "#2.2\n",
        "\n",
        "id = \"16ZVj0B-P7GuA8n5SXehe3DAy6SkYsNn_\"\n",
        "downloaded = drive.CreateFile({'id':id}) \n",
        "downloaded.GetContentFile('day2.txt')  \n",
        "df2 = pd.read_csv('day2.txt', delimiter=\":\", header = None)\n",
        "df2.columns = [\"rule\", \"password\"]\n",
        "df2.rule.str.strip()\n",
        "df2.password.str.strip()\n",
        "answer = 0\n",
        "for idx, row in df2.iterrows():\n",
        "  min, max, test = re.findall(\"([0-9]+)-([0-9]+) ([a-z])\", row[\"rule\"])[0]\n",
        "  ch_test1 = 1 if row[\"password\"][int(min)] == test else 0\n",
        "  ch_test2 = 1 if row[\"password\"][int(max)] == test else 0\n",
        "  result = ch_test1 + ch_test2\n",
        "  if result == 1:\n",
        "    answer = answer + 1\n",
        "answer"
      ],
      "execution_count": 4,
      "outputs": [
        {
          "output_type": "execute_result",
          "data": {
            "text/plain": [
              "360"
            ]
          },
          "metadata": {
            "tags": []
          },
          "execution_count": 4
        }
      ]
    },
    {
      "cell_type": "code",
      "metadata": {
        "id": "3ONtgpE9tqYK"
      },
      "source": [
        ""
      ],
      "execution_count": null,
      "outputs": []
    }
  ]
}