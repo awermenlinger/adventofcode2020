{
  "nbformat": 4,
  "nbformat_minor": 0,
  "metadata": {
    "colab": {
      "name": "adventofcode08.ipynb",
      "provenance": [],
      "collapsed_sections": [],
      "authorship_tag": "ABX9TyNA/zdOuatB9hJwVq2U2JMH",
      "include_colab_link": true
    },
    "kernelspec": {
      "name": "python3",
      "display_name": "Python 3"
    }
  },
  "cells": [
    {
      "cell_type": "markdown",
      "metadata": {
        "id": "view-in-github",
        "colab_type": "text"
      },
      "source": [
        "<a href=\"https://colab.research.google.com/github/awermenlinger/adventofcode2020/blob/main/adventofcode08.ipynb\" target=\"_parent\"><img src=\"https://colab.research.google.com/assets/colab-badge.svg\" alt=\"Open In Colab\"/></a>"
      ]
    },
    {
      "cell_type": "code",
      "metadata": {
        "id": "0UOfQ9JuQLhF"
      },
      "source": [
        "import pandas as pd\n",
        "import numpy as np\n",
        "import regex as re\n",
        "import math\n",
        "from itertools import combinations\n",
        "from pydrive.auth import GoogleAuth\n",
        "from pydrive.drive import GoogleDrive\n",
        "from google.colab import auth\n",
        "from oauth2client.client import GoogleCredentials"
      ],
      "execution_count": 1,
      "outputs": []
    },
    {
      "cell_type": "code",
      "metadata": {
        "id": "1QOELSVdQQiC"
      },
      "source": [
        "# Authenticate and create the PyDrive client.\n",
        "auth.authenticate_user()\n",
        "gauth = GoogleAuth()\n",
        "gauth.credentials = GoogleCredentials.get_application_default()\n",
        "drive = GoogleDrive(gauth)"
      ],
      "execution_count": 2,
      "outputs": []
    },
    {
      "cell_type": "code",
      "metadata": {
        "id": "UWgUE4TyQSo5"
      },
      "source": [
        "#load the file\n",
        "\n",
        "id = \"1N7Ztvk7HiHVYZEplJysz7sjyv4rJ7b7h\"\n",
        "downloaded = drive.CreateFile({'id':id}) \n",
        "downloaded.GetContentFile('day08.txt')  \n",
        "\n"
      ],
      "execution_count": 3,
      "outputs": []
    },
    {
      "cell_type": "code",
      "metadata": {
        "id": "9dVPaSovQn_q"
      },
      "source": [
        "strings = open('day08.txt', 'r').read().rstrip().split('\\n')\n",
        "i_lenght = len(strings)\n",
        "operations_df = pd.DataFrame(columns=['operator','value','has_run'], index=range(i_lenght))\n",
        "i = 0\n",
        "for ops in strings:\n",
        "  op, val = ops.split(\" \")\n",
        "  val = val.replace(\"+\", \"\")\n",
        "  operations_df.loc[i][\"operator\"] = op\n",
        "  operations_df.loc[i][\"value\"] = int(val)\n",
        "  operations_df.loc[i][\"has_run\"] = False\n",
        "  i += 1"
      ],
      "execution_count": 54,
      "outputs": []
    },
    {
      "cell_type": "code",
      "metadata": {
        "id": "LB7G11XZNZH7"
      },
      "source": [
        "acc = 0 #acc adds or removes to global value\n",
        "#jmp --> move within the column (- for up, + for down)\n",
        "#nop --> do nothing, move to next operation\n",
        "location = 0\n",
        "while operations_df.loc[location, \"has_run\"] == False:\n",
        "  if operations_df.loc[location, \"operator\"] == \"nop\":\n",
        "    operations_df.loc[location, \"has_run\"] = True\n",
        "    location += 1\n",
        "  elif operations_df.loc[location, \"operator\"] == \"acc\":\n",
        "    acc += operations_df.loc[location, \"value\"]\n",
        "    operations_df.loc[location, \"has_run\"] = True\n",
        "    location += 1\n",
        "  else:\n",
        "    location += operations_df.loc[location, \"value\"]\n",
        "\n",
        "ans81 = acc"
      ],
      "execution_count": 55,
      "outputs": []
    },
    {
      "cell_type": "code",
      "metadata": {
        "id": "kjCw7EHVDOy1",
        "colab": {
          "base_uri": "https://localhost:8080/"
        },
        "outputId": "7981e0c4-6ac0-4e31-bfef-98041b106464"
      },
      "source": [
        "def findacc(source):\n",
        "  acc = 0 \n",
        "  location = 0\n",
        "  modifieddf = source.copy()\n",
        "  maxlocation = len(modifieddf)\n",
        "  while modifieddf.loc[location, \"has_run\"] == False:\n",
        "    if modifieddf.loc[location, \"operator\"] == \"nop\":\n",
        "      modifieddf.loc[location, \"has_run\"] = True\n",
        "      location += 1\n",
        "    elif modifieddf.loc[location, \"operator\"] == \"acc\":\n",
        "      acc += modifieddf.loc[location, \"value\"]\n",
        "      modifieddf.loc[location, \"has_run\"] = True\n",
        "      location += 1\n",
        "    else:\n",
        "      location += modifieddf.loc[location, \"value\"]\n",
        "    if location == maxlocation:\n",
        "      return True , acc\n",
        "      break\n",
        "  return False, 0\n",
        "\n",
        "acc = 0\n",
        "ans82 = 0\n",
        "found = False\n",
        "for i  in range(len(operations_df)):\n",
        "  if operations_df.loc[i, \"operator\"] == \"nop\":\n",
        "    operations_df.loc[i, \"operator\"] = \"jmp\"\n",
        "    operations_df[\"has_run\"] = False\n",
        "    found, acc = findacc(operations_df)\n",
        "    if found == True:\n",
        "      print (\"found\")\n",
        "      ans82 = acc\n",
        "      break\n",
        "    else:\n",
        "      operations_df.loc[i, \"operator\"] = \"nop\"\n",
        "\n",
        "  elif operations_df.loc[i, \"operator\"] == \"jmp\":\n",
        "    operations_df.loc[i, \"operator\"] = \"nop\"\n",
        "    operations_df[\"has_run\"] = False\n",
        "    found, acc = findacc(operations_df)\n",
        "    if found == True:\n",
        "      print (\"found\")\n",
        "      ans82 = acc\n",
        "      break\n",
        "    else:\n",
        "      operations_df.loc[i, \"operator\"] = \"jmp\"\n",
        "\n",
        "ans82"
      ],
      "execution_count": 56,
      "outputs": [
        {
          "output_type": "stream",
          "text": [
            "found\n"
          ],
          "name": "stdout"
        },
        {
          "output_type": "execute_result",
          "data": {
            "text/plain": [
              "761"
            ]
          },
          "metadata": {
            "tags": []
          },
          "execution_count": 56
        }
      ]
    },
    {
      "cell_type": "code",
      "metadata": {
        "colab": {
          "base_uri": "https://localhost:8080/"
        },
        "id": "8ZhEPuu_ejS0",
        "outputId": "8fd92521-7ee6-40d0-af85-e2dd2f848dc1"
      },
      "source": [
        "print(\"8.1: {} and 8.2: {}\".format(ans81, ans82))"
      ],
      "execution_count": 57,
      "outputs": [
        {
          "output_type": "stream",
          "text": [
            "8.1: 1384 and 8.2: 761\n"
          ],
          "name": "stdout"
        }
      ]
    }
  ]
}