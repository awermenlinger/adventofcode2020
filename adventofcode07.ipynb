{
  "nbformat": 4,
  "nbformat_minor": 0,
  "metadata": {
    "colab": {
      "name": "adventofcode07.ipynb",
      "provenance": [],
      "collapsed_sections": [],
      "authorship_tag": "ABX9TyMywuEsZfH1goCkOV4JGl7X",
      "include_colab_link": true
    },
    "kernelspec": {
      "name": "python3",
      "display_name": "Python 3"
    }
  },
  "cells": [
    {
      "cell_type": "markdown",
      "metadata": {
        "id": "view-in-github",
        "colab_type": "text"
      },
      "source": [
        "<a href=\"https://colab.research.google.com/github/awermenlinger/adventofcode2020/blob/main/adventofcode07.ipynb\" target=\"_parent\"><img src=\"https://colab.research.google.com/assets/colab-badge.svg\" alt=\"Open In Colab\"/></a>"
      ]
    },
    {
      "cell_type": "code",
      "metadata": {
        "id": "0UOfQ9JuQLhF"
      },
      "source": [
        "import pandas as pd\n",
        "import numpy as np\n",
        "import regex as re\n",
        "import math\n",
        "from itertools import combinations\n",
        "from pydrive.auth import GoogleAuth\n",
        "from pydrive.drive import GoogleDrive\n",
        "from google.colab import auth\n",
        "from oauth2client.client import GoogleCredentials"
      ],
      "execution_count": 2,
      "outputs": []
    },
    {
      "cell_type": "code",
      "metadata": {
        "id": "1QOELSVdQQiC"
      },
      "source": [
        "# Authenticate and create the PyDrive client.\n",
        "auth.authenticate_user()\n",
        "gauth = GoogleAuth()\n",
        "gauth.credentials = GoogleCredentials.get_application_default()\n",
        "drive = GoogleDrive(gauth)"
      ],
      "execution_count": 3,
      "outputs": []
    },
    {
      "cell_type": "code",
      "metadata": {
        "id": "UWgUE4TyQSo5"
      },
      "source": [
        "#load the file\n",
        "\n",
        "id = \"1WWWHe7kMrZnY9AjxnFBo_m6yGzXH0yWc\"\n",
        "\n",
        "downloaded = drive.CreateFile({'id':id}) \n",
        "downloaded.GetContentFile('day07.txt')  \n",
        "\n"
      ],
      "execution_count": 4,
      "outputs": []
    },
    {
      "cell_type": "code",
      "metadata": {
        "id": "9dVPaSovQn_q"
      },
      "source": [
        "rules = open('day07.txt', 'r').read().rstrip().split('\\n')\n",
        "rulesdict = {}\n",
        "for rule in rules:\n",
        "  rule = rule.replace(\" bags\", \"\")\n",
        "  rule = rule.replace(\" bag\", \"\")\n",
        "  rule = rule.replace(\".\", \"\")\n",
        "  container, contents = rule.split(\" contain \")\n",
        "  contents = contents.split(\", \")\n",
        "  d_contents = {}\n",
        "  for content in contents:\n",
        "    if content == \"no other\":\n",
        "      d_contents[\"no other\"] = 0\n",
        "    else:\n",
        "      d_contents[content[2:]] = int(content[:1])\n",
        "  rulesdict[container] = d_contents"
      ],
      "execution_count": 5,
      "outputs": []
    },
    {
      "cell_type": "code",
      "metadata": {
        "id": "LB7G11XZNZH7"
      },
      "source": [
        "searchfor = [\"shiny gold\"]\n",
        "\n",
        "def return_bags(searchfor):\n",
        "  names_to_search = []\n",
        "  for k, v in rulesdict.items():\n",
        "    if searchfor in v:\n",
        "      names_to_search.append(k)\n",
        "  return names_to_search\n",
        "\n",
        "final_list = []\n",
        "while len(searchfor) != 0:\n",
        "  for searchitem in searchfor:\n",
        "    if searchitem not in final_list:\n",
        "      new_bags = return_bags(searchitem)\n",
        "      final_list.append(searchitem)\n",
        "      searchfor.extend(new_bags)\n",
        "    searchfor.remove(searchitem)\n",
        "    \n",
        "final_list.remove(\"shiny gold\")\n",
        "ans71 = len(final_list)"
      ],
      "execution_count": 6,
      "outputs": []
    },
    {
      "cell_type": "code",
      "metadata": {
        "id": "kjCw7EHVDOy1"
      },
      "source": [
        "def bags_inside(searchfor):\n",
        "   sum_bags = 0\n",
        "   for k, v in rulesdict[searchfor].items():\n",
        "     if k != \"no other\":\n",
        "       names_to_search.append((k, v))\n",
        "       sum_bags += v + v * bags_inside(k)\n",
        "   return sum_bags\n",
        "\n",
        "\n",
        "ans72 = bags_inside(\"shiny gold\")\n"
      ],
      "execution_count": 27,
      "outputs": []
    },
    {
      "cell_type": "code",
      "metadata": {
        "colab": {
          "base_uri": "https://localhost:8080/"
        },
        "id": "8ZhEPuu_ejS0",
        "outputId": "ab45ae48-d5a0-4d5c-f876-9867758e79a4"
      },
      "source": [
        "print(\"7.1: {} and 7.2: {}\".format(ans71, ans72))"
      ],
      "execution_count": 28,
      "outputs": [
        {
          "output_type": "stream",
          "text": [
            "7.1: 169 and 7.2: 82372\n"
          ],
          "name": "stdout"
        }
      ]
    },
    {
      "cell_type": "code",
      "metadata": {
        "id": "rZu3-c_vt3Fu"
      },
      "source": [
        ""
      ],
      "execution_count": null,
      "outputs": []
    }
  ]
}