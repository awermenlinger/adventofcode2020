{
  "nbformat": 4,
  "nbformat_minor": 0,
  "metadata": {
    "colab": {
      "name": "adventofcode04.ipynb",
      "provenance": [],
      "authorship_tag": "ABX9TyPbXR4E40D78wpok3fy3ZZA",
      "include_colab_link": true
    },
    "kernelspec": {
      "name": "python3",
      "display_name": "Python 3"
    }
  },
  "cells": [
    {
      "cell_type": "markdown",
      "metadata": {
        "id": "view-in-github",
        "colab_type": "text"
      },
      "source": [
        "<a href=\"https://colab.research.google.com/github/awermenlinger/adventofcode2020/blob/main/adventofcode04.ipynb\" target=\"_parent\"><img src=\"https://colab.research.google.com/assets/colab-badge.svg\" alt=\"Open In Colab\"/></a>"
      ]
    },
    {
      "cell_type": "code",
      "metadata": {
        "id": "GxroV_mLu5O4"
      },
      "source": [
        "import pandas as pd\n",
        "import numpy as np\n",
        "import regex as re\n",
        "import math\n",
        "from itertools import combinations\n",
        "from pydrive.auth import GoogleAuth\n",
        "from pydrive.drive import GoogleDrive\n",
        "from google.colab import auth\n",
        "from oauth2client.client import GoogleCredentials"
      ],
      "execution_count": 39,
      "outputs": []
    },
    {
      "cell_type": "code",
      "metadata": {
        "id": "MnQ802UBu5rT"
      },
      "source": [
        "# Authenticate and create the PyDrive client.\n",
        "auth.authenticate_user()\n",
        "gauth = GoogleAuth()\n",
        "gauth.credentials = GoogleCredentials.get_application_default()\n",
        "drive = GoogleDrive(gauth)"
      ],
      "execution_count": 40,
      "outputs": []
    },
    {
      "cell_type": "code",
      "metadata": {
        "colab": {
          "base_uri": "https://localhost:8080/"
        },
        "id": "AVoBDZequ7sS",
        "outputId": "d1088e23-86fa-43a6-958c-ae63c481ae2e"
      },
      "source": [
        "#3.1 and 3.2\n",
        "#load the file\n",
        "id = \"1vJWtYxTF-PZ_FcJWqW9pzKEECnu-pnOP\"\n",
        "downloaded = drive.CreateFile({'id':id}) \n",
        "downloaded.GetContentFile('day4.txt')  \n",
        "\n",
        "must_match = set([\"byr\", \"iyr\", \"eyr\", \"hgt\", \"hcl\", \"ecl\", \"pid\"])\n",
        "full_match = set([\"byr\", \"iyr\", \"eyr\", \"hgt\", \"hcl\", \"ecl\", \"pid\", \"cid\"])\n",
        "\n",
        "passports = []\n",
        "with open('day4.txt') as f:\n",
        "    for line in f:\n",
        "      if line == \"\\n\":\n",
        "        passports.append(info)\n",
        "        info ={}\n",
        "      else:\n",
        "        #parse the blobs\n",
        "        to_parse = line.split()\n",
        "        for item in to_parse:\n",
        "          strings = re.split(\":\", item)\n",
        "          info[strings[0]] = strings[1]\n",
        "passports.append(info)\n",
        "\n",
        "#4.1\n",
        "valid = 0\n",
        "for passport in passports:\n",
        "  if set(passport.keys()) == must_match or set(passport.keys()) == full_match:\n",
        "    valid = valid + 1\n",
        "ans41 = valid\n",
        "print (\"4.1 = {}\".format(ans41))\n",
        "\n",
        "valid = 0\n",
        "ecl_check = [\"amb\", \"blu\", \"brn\", \"gry\", \"grn\", \"hzl\", \"oth\"]\n",
        "for passport in passports:\n",
        "  if set(passport.keys()) == must_match or set(passport.keys()) == full_match:\n",
        "    cdn = []\n",
        "    cdn.append(1 if int(passport[\"byr\"]) <= 2002 and int(passport[\"byr\"]) >= 1920 else 0)\n",
        "    cdn.append(1 if int(passport[\"iyr\"]) <= 2020 and int(passport[\"iyr\"]) >= 2010 else 0)\n",
        "    cdn.append(1 if int(passport[\"eyr\"]) <= 2030 and int(passport[\"eyr\"]) >= 2020 else 0)\n",
        "    if re.match(\"\\d+cm|\\d+in\", passport[\"hgt\"]):\n",
        "      if passport[\"hgt\"][-2:] == \"in\":\n",
        "        cdn.append(1 if int(passport[\"hgt\"][:-2]) <= 76 and int(passport[\"hgt\"][:-2]) >= 59 else 0)\n",
        "      else:\n",
        "        cdn.append(1 if int(passport[\"hgt\"][:-2]) <= 193 and int(passport[\"hgt\"][:-2]) >= 150 else 0)\n",
        "    else:\n",
        "      cdn.append(0)\n",
        "    cdn.append(1 if re.match(\"^#[a-f0-9]{6}$\", passport[\"hcl\"]) else 0)\n",
        "    cdn.append(1 if passport[\"ecl\"] in ecl_check else 0)\n",
        "    cdn.append(1 if re.match(\"^[0-9]{9}$\", passport[\"pid\"]) else 0)\n",
        "    if sum(cdn) == 7:\n",
        "      valid = valid + 1\n",
        "\n",
        "ans42 = valid\n",
        "print (\"4.2 = {}\".format(ans42))"
      ],
      "execution_count": 61,
      "outputs": [
        {
          "output_type": "stream",
          "text": [
            "4.1 = 192\n",
            "4.2 = 101\n"
          ],
          "name": "stdout"
        }
      ]
    },
    {
      "cell_type": "code",
      "metadata": {
        "id": "9W8hcwY48uLA"
      },
      "source": [
        ""
      ],
      "execution_count": 12,
      "outputs": []
    }
  ]
}