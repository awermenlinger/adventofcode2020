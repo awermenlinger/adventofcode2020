{
  "nbformat": 4,
  "nbformat_minor": 0,
  "metadata": {
    "colab": {
      "name": "adventofcode03.ipynb",
      "provenance": [],
      "authorship_tag": "ABX9TyOaMAAmmya1JT92ko+UPFAa",
      "include_colab_link": true
    },
    "kernelspec": {
      "name": "python3",
      "display_name": "Python 3"
    }
  },
  "cells": [
    {
      "cell_type": "markdown",
      "metadata": {
        "id": "view-in-github",
        "colab_type": "text"
      },
      "source": [
        "<a href=\"https://colab.research.google.com/github/awermenlinger/adventofcode2020/blob/main/adventofcode03.ipynb\" target=\"_parent\"><img src=\"https://colab.research.google.com/assets/colab-badge.svg\" alt=\"Open In Colab\"/></a>"
      ]
    },
    {
      "cell_type": "code",
      "metadata": {
        "id": "g9fpDLytuexl"
      },
      "source": [
        "import pandas as pd\n",
        "import numpy as np\n",
        "import regex as re\n",
        "import math\n",
        "from itertools import combinations\n",
        "from pydrive.auth import GoogleAuth\n",
        "from pydrive.drive import GoogleDrive\n",
        "from google.colab import auth\n",
        "from oauth2client.client import GoogleCredentials"
      ],
      "execution_count": 1,
      "outputs": []
    },
    {
      "cell_type": "code",
      "metadata": {
        "id": "OTfPg6rGugbT"
      },
      "source": [
        "# Authenticate and create the PyDrive client.\n",
        "auth.authenticate_user()\n",
        "gauth = GoogleAuth()\n",
        "gauth.credentials = GoogleCredentials.get_application_default()\n",
        "drive = GoogleDrive(gauth)"
      ],
      "execution_count": 2,
      "outputs": []
    },
    {
      "cell_type": "code",
      "metadata": {
        "colab": {
          "base_uri": "https://localhost:8080/"
        },
        "id": "6OC18AI9ujwU",
        "outputId": "fd3054eb-e362-467f-cabb-2f00850e3fa0"
      },
      "source": [
        "#3.1 and 3.2\n",
        "#load the file\n",
        "id = \"1lc2j5Wh9ANtNaXWpbm8otyQ64h1OIOHt\"\n",
        "downloaded = drive.CreateFile({'id':id}) \n",
        "downloaded.GetContentFile('day3.txt')  \n",
        "with open('day3.txt') as f:\n",
        "    lines = [list(line.strip()) for line in f]\n",
        "    lines_array = np.array(lines)\n",
        "\n",
        "\n",
        "def count_trees(r, d, arr):\n",
        "  right = r\n",
        "  down = d\n",
        "  # create the array\n",
        "  height = arr.shape[0]\n",
        "  size = arr.shape[1]\n",
        "  replicate = math.ceil(height * down * right / size)\n",
        "  final = arr.copy()\n",
        "  for i in range(1, replicate):\n",
        "    final = np.concatenate((final, arr), axis = 1)\n",
        "  start = [0,0]  #y, x\n",
        "  position = [0,0]\n",
        "  end = [0,0]  #y, x\n",
        "  trees = 0\n",
        "  end[0] = height-1\n",
        "  while position[0] != end[0]:\n",
        "    position = [position[0] + down, position[1] + right]\n",
        "    if final[position[0], position[1]] == \"#\":\n",
        "      trees = trees + 1\n",
        "  return trees\n",
        "\n",
        "ans31 = count_trees(3,1,lines_array)\n",
        "\n",
        "ans32 = count_trees(1,1,lines_array) * count_trees(3,1,lines_array) * \\\n",
        "        count_trees(5,1,lines_array) * count_trees(7,1,lines_array) * \\\n",
        "        count_trees(1,2,lines_array)\n",
        "print (ans31)\n",
        "print (ans32)"
      ],
      "execution_count": 4,
      "outputs": [
        {
          "output_type": "stream",
          "text": [
            "284\n",
            "3510149120\n"
          ],
          "name": "stdout"
        }
      ]
    },
    {
      "cell_type": "code",
      "metadata": {
        "id": "CqvyRW7ruqEj"
      },
      "source": [
        ""
      ],
      "execution_count": null,
      "outputs": []
    }
  ]
}