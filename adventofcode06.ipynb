{
  "nbformat": 4,
  "nbformat_minor": 0,
  "metadata": {
    "colab": {
      "name": "adventofcode06.ipynb",
      "provenance": [],
      "authorship_tag": "ABX9TyMGxWVPVOe18Xd1e3261IVy",
      "include_colab_link": true
    },
    "kernelspec": {
      "name": "python3",
      "display_name": "Python 3"
    }
  },
  "cells": [
    {
      "cell_type": "markdown",
      "metadata": {
        "id": "view-in-github",
        "colab_type": "text"
      },
      "source": [
        "<a href=\"https://colab.research.google.com/github/awermenlinger/adventofcode2020/blob/main/adventofcode06.ipynb\" target=\"_parent\"><img src=\"https://colab.research.google.com/assets/colab-badge.svg\" alt=\"Open In Colab\"/></a>"
      ]
    },
    {
      "cell_type": "code",
      "metadata": {
        "id": "0UOfQ9JuQLhF"
      },
      "source": [
        "import pandas as pd\n",
        "import numpy as np\n",
        "import regex as re\n",
        "import math\n",
        "from itertools import combinations\n",
        "from pydrive.auth import GoogleAuth\n",
        "from pydrive.drive import GoogleDrive\n",
        "from google.colab import auth\n",
        "from oauth2client.client import GoogleCredentials"
      ],
      "execution_count": 4,
      "outputs": []
    },
    {
      "cell_type": "code",
      "metadata": {
        "id": "1QOELSVdQQiC"
      },
      "source": [
        "# Authenticate and create the PyDrive client.\n",
        "auth.authenticate_user()\n",
        "gauth = GoogleAuth()\n",
        "gauth.credentials = GoogleCredentials.get_application_default()\n",
        "drive = GoogleDrive(gauth)"
      ],
      "execution_count": 5,
      "outputs": []
    },
    {
      "cell_type": "code",
      "metadata": {
        "id": "UWgUE4TyQSo5"
      },
      "source": [
        "#\n",
        "#load the file\n",
        "\n",
        "id = \"1CXkIoEGHyTooqexvIKyejFwvaAWhDLM3\"\n",
        "downloaded = drive.CreateFile({'id':id}) \n",
        "downloaded.GetContentFile('day06.txt')  \n",
        "\n"
      ],
      "execution_count": 6,
      "outputs": []
    },
    {
      "cell_type": "code",
      "metadata": {
        "id": "9dVPaSovQn_q",
        "colab": {
          "base_uri": "https://localhost:8080/"
        },
        "outputId": "6be1c456-a8a3-4416-d835-f1a972317283"
      },
      "source": [
        "answers = []\n",
        "str_list = \"\"\n",
        "retchar = set(\"\\n\")\n",
        "with open('day06.txt') as f:\n",
        "    for line in f:\n",
        "      if line == \"\\n\":\n",
        "        answers.append(set(list(str_list))-retchar)\n",
        "        str_list = \"\"\n",
        "      else:\n",
        "        #parse the blobs\n",
        "        str_list = str_list + line\n",
        "\n",
        "answers.append(set(list(str_list))-retchar)\n",
        "\n",
        "ans61 = 0\n",
        "for answer in answers:\n",
        "  ans61 = len(list(answer)) + ans61\n",
        "\n",
        "ans62 = 0\n"
      ],
      "execution_count": 22,
      "outputs": [
        {
          "output_type": "execute_result",
          "data": {
            "text/plain": [
              "6778"
            ]
          },
          "metadata": {
            "tags": []
          },
          "execution_count": 22
        }
      ]
    },
    {
      "cell_type": "code",
      "metadata": {
        "id": "jufWerCHc3Rd"
      },
      "source": [
        "results = []\n",
        "empty = \" \"\n",
        "data = open('day06.txt', 'r').read().rstrip().split('\\n\\n')\n",
        "for items in data:\n",
        "  set_common = set(list(\"abcdefghijklmnopqrstuvwxyz\"))  \n",
        "  for line in items.split(\"\\n\"):\n",
        "    set_common = set_common.intersection(set(list(line)))\n",
        "  results.append(set_common)\n",
        "\n",
        "ans62 = 0\n",
        "for answer in results:\n",
        "  ans62 = len(list(answer)) + ans62"
      ],
      "execution_count": 65,
      "outputs": []
    },
    {
      "cell_type": "code",
      "metadata": {
        "colab": {
          "base_uri": "https://localhost:8080/"
        },
        "id": "8ZhEPuu_ejS0",
        "outputId": "6531912d-cf1c-4d70-8cc7-6f52d3933216"
      },
      "source": [
        "print(\"6.1: {} and 6.2: {}\".format(ans61, ans62))"
      ],
      "execution_count": 66,
      "outputs": [
        {
          "output_type": "stream",
          "text": [
            "6.1: 6778 and 6.2: 3406\n"
          ],
          "name": "stdout"
        }
      ]
    },
    {
      "cell_type": "code",
      "metadata": {
        "id": "JLguk6rHh7au"
      },
      "source": [
        ""
      ],
      "execution_count": null,
      "outputs": []
    }
  ]
}